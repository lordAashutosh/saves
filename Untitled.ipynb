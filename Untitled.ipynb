{
 "cells": [
  {
   "cell_type": "code",
   "execution_count": 6,
   "id": "81d091ee-a088-4079-a300-f1bd34febe3d",
   "metadata": {},
   "outputs": [
    {
     "name": "stdout",
     "output_type": "stream",
     "text": [
      "hello, world\n"
     ]
    }
   ],
   "source": [
    "print(\"hello, world\")\n"
   ]
  },
  {
   "cell_type": "code",
   "execution_count": null,
   "id": "36c5d96e-e0ba-4c30-ba38-8ccc532be14a",
   "metadata": {},
   "outputs": [],
   "source": []
  },
  {
   "cell_type": "code",
   "execution_count": null,
   "id": "45e1c548-5fab-4edd-9393-1862490d8569",
   "metadata": {},
   "outputs": [],
   "source": []
  },
  {
   "cell_type": "code",
   "execution_count": 7,
   "id": "96a9d1a3-2e70-43a3-a45e-1ef93cb30f0a",
   "metadata": {},
   "outputs": [
    {
     "name": "stdout",
     "output_type": "stream",
     "text": [
      "hello ,world!\n"
     ]
    }
   ],
   "source": [
    "print(\"hello ,world!\")"
   ]
  },
  {
   "cell_type": "code",
   "execution_count": null,
   "id": "4bac950d-c255-4b78-9d7f-a9ead8229959",
   "metadata": {},
   "outputs": [],
   "source": [
    "# Importing the numpy library\n",
    "!pip install numpy\n",
    "import numpy as np\n",
    "\n",
    "# -----------------------------------------\n",
    "# Random Data Generation\n",
    "# -----------------------------------------\n",
    "# Create an array of random integers between 0 and 50, with 10 elements\n",
    "LOW = 0\n",
    "HIGH = 50\n",
    "ELEMENTS_COUNT = 10\n",
    "random_data = np.random.randint(LOW, HIGH, ELEMENTS_COUNT)\n",
    "own_try = np.ranadom.randint(10,100,)\n",
    "print(\"Random Data:\", random_data)\n",
    "\n",
    "# Create a random array of shape (3, 3) with values between 0 and 1\n",
    "random_array = np.random.random((3, 3))\n",
    "print(\"Random Array (3x3):\\n\", random_array)\n",
    "\n",
    "# Set a seed to make random numbers reproducible\n",
    "np.random.seed(42)\n",
    "seeded_random = np.random.randint(0, 100, 5)\n",
    "print(\"Seeded Random Data:\", seeded_random)\n"
   ]
  },
  {
   "cell_type": "code",
   "execution_count": 1,
   "id": "b96cdef9",
   "metadata": {},
   "outputs": [
    {
     "name": "stdout",
     "output_type": "stream",
     "text": [
      "Collecting pandas\n",
      "  Using cached pandas-2.2.3-cp313-cp313-win_amd64.whl.metadata (19 kB)\n",
      "Requirement already satisfied: numpy>=1.26.0 in c:\\users\\acer\\onedrive\\desktop\\python\\myenv\\lib\\site-packages (from pandas) (2.2.1)\n",
      "Requirement already satisfied: python-dateutil>=2.8.2 in c:\\users\\acer\\onedrive\\desktop\\python\\myenv\\lib\\site-packages (from pandas) (2.9.0.post0)\n",
      "Collecting pytz>=2020.1 (from pandas)\n",
      "  Using cached pytz-2024.2-py2.py3-none-any.whl.metadata (22 kB)\n",
      "Collecting tzdata>=2022.7 (from pandas)\n",
      "  Using cached tzdata-2024.2-py2.py3-none-any.whl.metadata (1.4 kB)\n",
      "Requirement already satisfied: six>=1.5 in c:\\users\\acer\\onedrive\\desktop\\python\\myenv\\lib\\site-packages (from python-dateutil>=2.8.2->pandas) (1.17.0)\n",
      "Using cached pandas-2.2.3-cp313-cp313-win_amd64.whl (11.5 MB)\n",
      "Using cached pytz-2024.2-py2.py3-none-any.whl (508 kB)\n",
      "Using cached tzdata-2024.2-py2.py3-none-any.whl (346 kB)\n",
      "Installing collected packages: pytz, tzdata, pandas\n",
      "Successfully installed pandas-2.2.3 pytz-2024.2 tzdata-2024.2\n"
     ]
    },
    {
     "name": "stderr",
     "output_type": "stream",
     "text": [
      "\n",
      "[notice] A new release of pip is available: 24.2 -> 24.3.1\n",
      "[notice] To update, run: python.exe -m pip install --upgrade pip\n"
     ]
    }
   ],
   "source": [
    "!pip install pandas\n"
   ]
  },
  {
   "cell_type": "code",
   "execution_count": 2,
   "id": "eeb6b403",
   "metadata": {},
   "outputs": [
    {
     "name": "stderr",
     "output_type": "stream",
     "text": [
      "C:\\Users\\acer\\AppData\\Local\\Temp\\ipykernel_75200\\365250355.py:12: FutureWarning: A value is trying to be set on a copy of a DataFrame or Series through chained assignment using an inplace method.\n",
      "The behavior will change in pandas 3.0. This inplace method will never work because the intermediate object on which we are setting values always behaves as a copy.\n",
      "\n",
      "For example, when doing 'df[col].method(value, inplace=True)', try using 'df.method({col: value}, inplace=True)' or df[col] = df[col].method(value) instead, to perform the operation inplace on the original object.\n",
      "\n",
      "\n",
      "  df['Salary'].fillna(df['Salary'].mean(), inplace=True)\n"
     ]
    },
    {
     "data": {
      "text/html": [
       "<div>\n",
       "<style scoped>\n",
       "    .dataframe tbody tr th:only-of-type {\n",
       "        vertical-align: middle;\n",
       "    }\n",
       "\n",
       "    .dataframe tbody tr th {\n",
       "        vertical-align: top;\n",
       "    }\n",
       "\n",
       "    .dataframe thead th {\n",
       "        text-align: right;\n",
       "    }\n",
       "</style>\n",
       "<table border=\"1\" class=\"dataframe\">\n",
       "  <thead>\n",
       "    <tr style=\"text-align: right;\">\n",
       "      <th></th>\n",
       "      <th>Name</th>\n",
       "      <th>Age</th>\n",
       "      <th>Salary</th>\n",
       "      <th>canVote</th>\n",
       "      <th>temporary</th>\n",
       "    </tr>\n",
       "  </thead>\n",
       "  <tbody>\n",
       "    <tr>\n",
       "      <th>0</th>\n",
       "      <td>Ramesh</td>\n",
       "      <td>10</td>\n",
       "      <td>100.0</td>\n",
       "      <td>False</td>\n",
       "      <td>1000.0</td>\n",
       "    </tr>\n",
       "    <tr>\n",
       "      <th>1</th>\n",
       "      <td>Prakash</td>\n",
       "      <td>20</td>\n",
       "      <td>150.0</td>\n",
       "      <td>True</td>\n",
       "      <td>3000.0</td>\n",
       "    </tr>\n",
       "    <tr>\n",
       "      <th>2</th>\n",
       "      <td>Roshni</td>\n",
       "      <td>30</td>\n",
       "      <td>125.0</td>\n",
       "      <td>True</td>\n",
       "      <td>3750.0</td>\n",
       "    </tr>\n",
       "  </tbody>\n",
       "</table>\n",
       "</div>"
      ],
      "text/plain": [
       "      Name  Age  Salary  canVote  temporary\n",
       "0   Ramesh   10   100.0    False     1000.0\n",
       "1  Prakash   20   150.0     True     3000.0\n",
       "2   Roshni   30   125.0     True     3750.0"
      ]
     },
     "execution_count": 2,
     "metadata": {},
     "output_type": "execute_result"
    }
   ],
   "source": [
    "import pandas as pd\n",
    "\n",
    "# Create a DataFrame\n",
    "data = {\n",
    "    \"Name\": [\"Ramesh\", \"Prakash\", \"Roshni\"],\n",
    "    \"Age\": [10, 20, 30],\n",
    "    \"Salary\": [100, 150, None]\n",
    "}\n",
    "df = pd.DataFrame(data)\n",
    "\n",
    "# Fill missing values in 'Salary' with the mean\n",
    "df['Salary'].fillna(df['Salary'].mean(), inplace=True)\n",
    "\n",
    "# Add a column to check voting eligibility\n",
    "df['canVote'] = df['Age'] >= 18\n",
    "\n",
    "# Add a 'temporary' column as the product of 'Age' and 'Salary'\n",
    "df['temporary'] = df['Age'] * df['Salary']\n",
    "\n",
    "# Display the DataFrame\n",
    "df\n"
   ]
  },
  {
   "cell_type": "code",
   "execution_count": 4,
   "id": "3bf103d5",
   "metadata": {},
   "outputs": [
    {
     "name": "stderr",
     "output_type": "stream",
     "text": [
      "C:\\Users\\acer\\AppData\\Local\\Temp\\ipykernel_75200\\820352922.py:19: FutureWarning: A value is trying to be set on a copy of a DataFrame or Series through chained assignment using an inplace method.\n",
      "The behavior will change in pandas 3.0. This inplace method will never work because the intermediate object on which we are setting values always behaves as a copy.\n",
      "\n",
      "For example, when doing 'df[col].method(value, inplace=True)', try using 'df.method({col: value}, inplace=True)' or df[col] = df[col].method(value) instead, to perform the operation inplace on the original object.\n",
      "\n",
      "\n",
      "  df['Salary'].fillna(df['Salary'].mean(), inplace=True)\n"
     ]
    }
   ],
   "source": [
    "import pandas as pd\n",
    "data = {\n",
    "    \"Name\":[\"Ramesh\", \"Prakash\", \"Roshni\"],\n",
    "    \"Age\": [10, 20, 30],\n",
    "    \"Salary\": [100, 150, None]\n",
    "}\n",
    "\n",
    "df = pd.DataFrame(data)\n",
    "# df['Salary'].mean()\n",
    "# df['Salary'].std()\n",
    "df['Salary'].max()\n",
    "# df.isnull()\n",
    "# df['Salary'].fillna(df['Salary'].mean(), inplace=True)\n",
    "# df\n",
    "# average = df['Salary'].mean()\n",
    "# df['Salary'].fillna(average, inplace=True)\n",
    "# df\n",
    "# df['Salary'].fillna(df['Salary'].mode()[0], inplace=True)\n",
    "df['Salary'].fillna(df['Salary'].mean(), inplace=True)\n",
    "df\n",
    "\n",
    "df['canVote'] = df['Age'] >= 18\n",
    "# df\n",
    "\n",
    "\n",
    "# Employee Salary\n",
    "\n",
    "# Name Age Salary\n",
    "\n",
    "df['temporary'] = df['Age']* df['Salary']\n",
    "df \n",
    "\n"
   ]
  },
  {
   "cell_type": "code",
   "execution_count": null,
   "id": "cadfcdc7",
   "metadata": {},
   "outputs": [],
   "source": []
  }
 ],
 "metadata": {
  "kernelspec": {
   "display_name": "myenv",
   "language": "python",
   "name": "python3"
  },
  "language_info": {
   "codemirror_mode": {
    "name": "ipython",
    "version": 3
   },
   "file_extension": ".py",
   "mimetype": "text/x-python",
   "name": "python",
   "nbconvert_exporter": "python",
   "pygments_lexer": "ipython3",
   "version": "3.13.0"
  }
 },
 "nbformat": 4,
 "nbformat_minor": 5
}
