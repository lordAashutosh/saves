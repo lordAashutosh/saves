{
 "cells": [
  {
   "cell_type": "code",
   "execution_count": 8,
   "id": "81d091ee-a088-4079-a300-f1bd34febe3d",
   "metadata": {},
   "outputs": [
    {
     "name": "stdout",
     "output_type": "stream",
     "text": [
      "hello -----world\n"
     ]
    }
   ],
   "source": [
    "print(\"hello -----world\")\n"
   ]
  },
  {
   "cell_type": "code",
   "execution_count": 9,
   "id": "80ac39df-184c-43da-8ceb-461a13d37d4c",
   "metadata": {},
   "outputs": [
    {
     "name": "stdout",
     "output_type": "stream",
     "text": [
      "google colab or jupyter notebook-------------\n"
     ]
    }
   ],
   "source": [
    "print(\"google colab or jupyter notebook-------------\")"
   ]
  },
  {
   "cell_type": "code",
   "execution_count": 10,
   "id": "47133492-40f9-4681-810d-43a7d0310170",
   "metadata": {},
   "outputs": [
    {
     "name": "stdout",
     "output_type": "stream",
     "text": [
      "Random Data: [ 0 11 30 10 39 42 25  7 25  3]\n",
      "Random Array (3x3):\n",
      " [[0.18800753 0.81475226 0.91974411]\n",
      " [0.03463423 0.46165015 0.70319264]\n",
      " [0.14432193 0.14007602 0.22317024]]\n",
      "Seeded Random Data: [51 92 14 71 60]\n"
     ]
    }
   ],
   "source": [
    "# Importing the numpy library\n",
    "# !pip install numpy\n",
    "import numpy as np\n",
    "\n",
    "# -----------------------------------------\n",
    "# Random Data Generation\n",
    "# -----------------------------------------\n",
    "# Create an array of random integers between 0 and 50, with 10 elements\n",
    "LOW = 0\n",
    "HIGH = 50\n",
    "ELEMENTS_COUNT = 10\n",
    "random_data = np.random.randint(LOW, HIGH, ELEMENTS_COUNT)\n",
    "print(\"Random Data:\", random_data)\n",
    "\n",
    "# Create a random array of shape (3, 3) with values between 0 and 1\n",
    "random_array = np.random.random((3, 3))\n",
    "print(\"Random Array (3x3):\\n\", random_array)\n",
    "\n",
    "# # Set a seed to make random numbers reproducible\n",
    "np.random.seed(42)\n",
    "seeded_random = np.random.randint(0, 100, 5)\n",
    "print(\"Seeded Random Data:\", seeded_random)\n"
   ]
  },
  {
   "cell_type": "code",
   "execution_count": 3,
   "id": "711220cb-5448-42d9-962d-e8176f31d889",
   "metadata": {},
   "outputs": [
    {
     "name": "stdout",
     "output_type": "stream",
     "text": [
      "Random Data: [20 38 18 22 10 10 23 35 39 23]\n",
      "36\n"
     ]
    }
   ],
   "source": [
    "LOW = 0\n",
    "HIGH = 50\n",
    "ELEMENTS_COUNT = 10\n",
    "random_data = np.random.randint(LOW, HIGH, ELEMENTS_COUNT)\n",
    "print(\"Random Data:\", random_data)\n",
    "\n",
    "random_data_2nd = np.array([1,10,12,14,16,18,20])\n",
    "print(random_data[3] + random_data_2nd[3])"
   ]
  },
  {
   "cell_type": "code",
   "execution_count": 11,
   "id": "22e23671-5eb8-4e09-bc05-e7ccb6ff0c6e",
   "metadata": {},
   "outputs": [
    {
     "name": "stdout",
     "output_type": "stream",
     "text": [
      "Random Data: [20 38 18 22 10 10 23 35 39 23]\n",
      "Numpy Array: [10 20 30 40 50 60]\n",
      "First Element: 10\n",
      "Last Element: 60\n",
      "Subarray (2nd to 4th element): [20 30 40]\n",
      "62\n"
     ]
    }
   ],
   "source": [
    "# -----------------------------------------\n",
    "# Numpy Array, Indexing & Operations\n",
    "# -----------------------------------------\n",
    "# Create a numpy array\n",
    "LOW = 0\n",
    "HIGH = 50\n",
    "ELEMENTS_COUNT = 10\n",
    "random_data = np.random.randint(LOW, HIGH, ELEMENTS_COUNT)\n",
    "print(\"Random Data:\", random_data)\n",
    "data = [10, 20, 30, 40, 50, 60]\n",
    "arr = np.array(data)\n",
    "print(\"Numpy Array:\", arr)\n",
    "\n",
    "# Indexing: Access the first and last element\n",
    "print(\"First Element:\", arr[0])\n",
    "print(\"Last Element:\", arr[-1])\n",
    "# # Slicing: Access a subarray (2nd to 4th element)\n",
    "sub_array = arr[1:4]\n",
    "print(\"Subarray (2nd to 4th element):\", sub_array)\n",
    "# Classwork : Create two arrays (1 with random value from 0 to 100) (another manual array) - both array size should be 7.\n",
    "# Print sum of 3rd index of both array\n",
    "\n",
    "print(random_data[3] + arr[3])\n",
    "\n",
    "\n",
    "# def split(string_num):\n",
    "#   string_num_to_string_list = #some logic\n",
    "#   return string_num_to_string_list\n",
    "\n",
    "\n",
    "# numbers = input(\"Hey user - give me numbers separated by comma\\n\")\n",
    "# numbers = numbers.split(\",\") #no memory change, return\n",
    "# arr = np.array(numbers)\n",
    "# print(arr)"
   ]
  },
  {
   "cell_type": "code",
   "execution_count": 12,
   "id": "d1b90f54-6f18-44db-a468-97bbacd7ab21",
   "metadata": {},
   "outputs": [
    {
     "name": "stdout",
     "output_type": "stream",
     "text": [
      "[10 20 30 40 50 60 70 80 90]\n",
      "[ 20  40  60  80 100 120 140 160 180]\n",
      "[ 30  60  90 120 150 180 210 240 270]\n"
     ]
    }
   ],
   "source": [
    "import numpy as np\n",
    "data = [10, 20, 30, 40, 50, 60, 70, 80, 90,]\n",
    "arr = np.array(data)\n",
    "print(arr)\n",
    "# if we multiple any array by an integer, or any other\n",
    "arr_mul = arr * 2\n",
    "print(arr_mul)\n",
    "\n",
    "# if we add numpy array with another arrays\n",
    "arr_sum = arr + arr_mul\n",
    "print(arr_sum)# it will get added to another array ==> on same index contain will get added\n",
    "\n"
   ]
  },
  {
   "cell_type": "code",
   "execution_count": 13,
   "id": "8d7188db-1952-4ff1-b3b7-47881428496e",
   "metadata": {},
   "outputs": [
    {
     "name": "stdout",
     "output_type": "stream",
     "text": [
      "if the list addition occur\n",
      "[1, 2, 3, 4, 5, 6, 7, 8, 9, 9, 8, 7, 6, 5, 4, 3, 2, 1]\n",
      "but if the  addition of numpy array occurs, output would be like this  ==>\n",
      "[10 10 10 10 10 10 10 10 10]\n",
      " in this same index contain has been added and give output\n"
     ]
    }
   ],
   "source": [
    "# if the addition of list occur \n",
    "first_list = [1,2,3,4,5,6,7,8,9]\n",
    "second_list = [9,8,7,6,5,4,3,2,1]\n",
    "print(f'if the list addition occur')\n",
    "print(first_list + second_list)\n",
    "print(\"but if the  addition of numpy array occurs, output would be like this  ==>\")\n",
    "first_arr = np.array(first_list)\n",
    "second_arr = np.array(second_list)\n",
    "print(first_arr + second_arr)\n",
    "print(\" in this same index contain has been added and give output\")\n",
    "      "
   ]
  },
  {
   "cell_type": "code",
   "execution_count": 14,
   "id": "fbca8fa6-4ff6-47ad-8374-71e62fac6c03",
   "metadata": {},
   "outputs": [
    {
     "name": "stdout",
     "output_type": "stream",
     "text": [
      "First list before extend [1, 2, 3, 4, 5, 6, 7, 8, 9]\n",
      "First list after extend [1, 2, 3, 4, 5, 6, 7, 8, 9, 9, 8, 7, 6, 5, 4, 3, 2, 1]\n",
      "[9, 8, 7, 6, 5, 4, 3, 2, 1]\n"
     ]
    }
   ],
   "source": [
    "\n",
    "print(f\"First list before extend {first_list}\")\n",
    "first_list.extend(second_list)# in this second_list has been extended to first_list \n",
    "print(f\"First list after extend {first_list}\")\n",
    "# extend doesn't change in memory \n",
    "# we need to assign a variable for the continously use to that data :\n",
    "print(second_list)\n"
   ]
  },
  {
   "cell_type": "code",
   "execution_count": 15,
   "id": "d268efa3-3ee5-408b-b422-ad5bb50b1218",
   "metadata": {},
   "outputs": [
    {
     "name": "stdout",
     "output_type": "stream",
     "text": [
      "if we need to remove the duplicate form that list then ==>\n",
      "[1, 2, 3, 4, 5, 6, 7, 8, 9]\n",
      "[1, 2, 3, 4, 5, 6, 7, 8, 9]\n"
     ]
    }
   ],
   "source": [
    "print(\"if we need to remove the duplicate form that list then ==>\")\n",
    "no_duplicate = list(set(first_list)) #  basically set is unordered but our data was very perfect it came in order \n",
    "print(no_duplicate)\n",
    "# but if out pure output is not in order\n",
    "print(sorted(no_duplicate))# then we need to sorted them ."
   ]
  },
  {
   "cell_type": "code",
   "execution_count": 16,
   "id": "02e207b4-0b9b-49cd-8ae4-03272ef26e54",
   "metadata": {},
   "outputs": [
    {
     "name": "stdout",
     "output_type": "stream",
     "text": [
      "next method of removing dulpicate \n",
      "this is not recommended to use\n",
      "[1, 2, 3, 4, 5, 6, 7, 8, 9]\n"
     ]
    }
   ],
   "source": [
    "print(\"next method of removing dulpicate \")\n",
    "print(\"this is not recommended to use\")\n",
    "unique_list=[]\n",
    "for each_element in first_list:\n",
    "    if each_element not in unique_list:\n",
    "        unique_list.append(each_element)\n",
    "\n",
    "print(unique_list)\n",
    "\n",
    "# for list comprehension \n",
    "# unique_list = [each_element for each_element in first_list if each_element not in unique_list]\n",
    "# print(unique_list)\n",
    "# print(first_list)\n",
    "\n"
   ]
  },
  {
   "cell_type": "code",
   "execution_count": 17,
   "id": "01da6022-2007-42d1-8ae2-3edc771f25d9",
   "metadata": {},
   "outputs": [
    {
     "name": "stdout",
     "output_type": "stream",
     "text": [
      "2D Array (Matrix):\n",
      " [[1 2 3]\n",
      " [4 5 6]\n",
      " [7 8 9]]\n",
      "Element at (2nd row, 3rd column): 6\n",
      "Second Row: [4 5 6]\n",
      "Third Column: [3 6 9]\n",
      "Transposed Matrix:\n",
      " [[1 4 7]\n",
      " [2 5 8]\n",
      " [3 6 9]]\n",
      "Sum of all elements: 45\n",
      "Maximum Value: 9\n",
      "Minimum Value: 1\n",
      "Sum along Rows: [ 6 15 24]\n",
      "Sum along Columns: [12 15 18]\n",
      "Square Root of Elements:\n",
      " [[1.         1.41421356 1.73205081]\n",
      " [2.         2.23606798 2.44948974]\n",
      " [2.64575131 2.82842712 3.        ]]\n"
     ]
    }
   ],
   "source": [
    "# -----------------------------------------\n",
    "# Array Data Structures in Numpy\n",
    "# -----------------------------------------\n",
    "# Creating a 2D array (matrix)\n",
    "matrix = np.array([[1, 2, 3], [4, 5, 6], [7, 8, 9]])\n",
    "print(\"2D Array (Matrix):\\n\", matrix)\n",
    "\n",
    "# # Accessing specific elements, rows, and columns\n",
    "print(\"Element at (2nd row, 3rd column):\", matrix[1, 2])  # Indexing starts at 0\n",
    "print(\"Second Row:\", matrix[1, :])\n",
    "print(\"Third Column:\", matrix[:, 2])\n",
    "\n",
    "# # Transpose of the matrix\n",
    "transposed_matrix = matrix.T\n",
    "print(\"Transposed Matrix:\\n\", transposed_matrix)\n",
    "\n",
    "# # -----------------------------------------\n",
    "# # Array Operations and Methods\n",
    "# # -----------------------------------------\n",
    "# # Summing all elements in the array\n",
    "total_sum = np.sum(matrix)\n",
    "print(\"Sum of all elements:\", total_sum)\n",
    "\n",
    "# Define Custom array of size:7 - find out min,max,mean\n",
    "my_arr = np.array([10,20,30,40,50,60,70])\n",
    "# # Finding the maximum and minimum\n",
    "max_value = np.max(matrix)\n",
    "min_value = np.min(matrix)\n",
    "print(\"Maximum Value:\", max_value)\n",
    "print(\"Minimum Value:\", min_value)\n",
    "# # Axis-based operations: Sum along rows and columns\n",
    "sum_rows = np.sum(matrix, axis=1)  # Sum along rows\n",
    "sum_columns = np.sum(matrix, axis=0)  # Sum along columns\n",
    "print(\"Sum along Rows:\", sum_rows)\n",
    "print(\"Sum along Columns:\", sum_columns)\n",
    "\n",
    "# # Element-wise square root\n",
    "sqrt_matrix = np.sqrt(matrix)\n",
    "print(\"Square Root of Elements:\\n\", sqrt_matrix)"
   ]
  },
  {
   "cell_type": "code",
   "execution_count": 18,
   "id": "c73973af-d516-4002-a405-34517b957e68",
   "metadata": {},
   "outputs": [
    {
     "name": "stdout",
     "output_type": "stream",
     "text": [
      "to make a 2d array ==> --\n",
      "2D Array (Matrix):\n",
      " [[1 2 3]\n",
      " [4 5 6]\n",
      " [7 8 9]]\n"
     ]
    }
   ],
   "source": [
    "matrix1 = np.array([[10,20,30], [40,50,60], [70,80,90]])\n",
    "print(f'to make a 2d array ==> --')\n",
    "print(\"2D Array (Matrix):\\n\", matrix)\n"
   ]
  },
  {
   "cell_type": "code",
   "execution_count": 19,
   "id": "7572ca51-9796-45af-b0de-abec4e37b4fe",
   "metadata": {},
   "outputs": [
    {
     "name": "stdout",
     "output_type": "stream",
     "text": [
      "Requirement already satisfied: seaborn in c:\\users\\acer\\appdata\\local\\programs\\python\\python313\\lib\\site-packages (0.13.2)\n",
      "Requirement already satisfied: numpy!=1.24.0,>=1.20 in c:\\users\\acer\\appdata\\local\\programs\\python\\python313\\lib\\site-packages (from seaborn) (2.2.0)\n",
      "Requirement already satisfied: pandas>=1.2 in c:\\users\\acer\\appdata\\local\\programs\\python\\python313\\lib\\site-packages (from seaborn) (2.2.3)\n",
      "Requirement already satisfied: matplotlib!=3.6.1,>=3.4 in c:\\users\\acer\\appdata\\local\\programs\\python\\python313\\lib\\site-packages (from seaborn) (3.9.4)\n",
      "Requirement already satisfied: contourpy>=1.0.1 in c:\\users\\acer\\appdata\\local\\programs\\python\\python313\\lib\\site-packages (from matplotlib!=3.6.1,>=3.4->seaborn) (1.3.1)\n",
      "Requirement already satisfied: cycler>=0.10 in c:\\users\\acer\\appdata\\local\\programs\\python\\python313\\lib\\site-packages (from matplotlib!=3.6.1,>=3.4->seaborn) (0.12.1)\n",
      "Requirement already satisfied: fonttools>=4.22.0 in c:\\users\\acer\\appdata\\local\\programs\\python\\python313\\lib\\site-packages (from matplotlib!=3.6.1,>=3.4->seaborn) (4.55.3)\n",
      "Requirement already satisfied: kiwisolver>=1.3.1 in c:\\users\\acer\\appdata\\local\\programs\\python\\python313\\lib\\site-packages (from matplotlib!=3.6.1,>=3.4->seaborn) (1.4.7)\n",
      "Requirement already satisfied: packaging>=20.0 in c:\\users\\acer\\appdata\\local\\programs\\python\\python313\\lib\\site-packages (from matplotlib!=3.6.1,>=3.4->seaborn) (24.2)\n",
      "Requirement already satisfied: pillow>=8 in c:\\users\\acer\\appdata\\local\\programs\\python\\python313\\lib\\site-packages (from matplotlib!=3.6.1,>=3.4->seaborn) (11.0.0)\n",
      "Requirement already satisfied: pyparsing>=2.3.1 in c:\\users\\acer\\appdata\\local\\programs\\python\\python313\\lib\\site-packages (from matplotlib!=3.6.1,>=3.4->seaborn) (3.2.0)\n",
      "Requirement already satisfied: python-dateutil>=2.7 in c:\\users\\acer\\appdata\\local\\programs\\python\\python313\\lib\\site-packages (from matplotlib!=3.6.1,>=3.4->seaborn) (2.9.0.post0)\n",
      "Requirement already satisfied: pytz>=2020.1 in c:\\users\\acer\\appdata\\local\\programs\\python\\python313\\lib\\site-packages (from pandas>=1.2->seaborn) (2024.2)\n",
      "Requirement already satisfied: tzdata>=2022.7 in c:\\users\\acer\\appdata\\local\\programs\\python\\python313\\lib\\site-packages (from pandas>=1.2->seaborn) (2024.2)\n",
      "Requirement already satisfied: six>=1.5 in c:\\users\\acer\\appdata\\local\\programs\\python\\python313\\lib\\site-packages (from python-dateutil>=2.7->matplotlib!=3.6.1,>=3.4->seaborn) (1.17.0)\n"
     ]
    },
    {
     "name": "stderr",
     "output_type": "stream",
     "text": [
      "\n",
      "[notice] A new release of pip is available: 24.2 -> 24.3.1\n",
      "[notice] To update, run: python.exe -m pip install --upgrade pip\n"
     ]
    }
   ],
   "source": [
    "\n",
    "# data = np.mean(np.sum(np.random.randint(0,50,100),axis=1))\n",
    "!pip install seaborn\n",
    "\n",
    "\n"
   ]
  },
  {
   "cell_type": "code",
   "execution_count": 6,
   "id": "1b373c81-8246-4718-bd85-2ee09a09af54",
   "metadata": {},
   "outputs": [],
   "source": [
    "# import pandas as pd\n",
    "# import matplotlib.pyplot as plt\n",
    "# import seaborn as sns\n",
    "# # 1. LOAD AND INSPECT DATA\n",
    "# # Load the dataset from a CSV file\n",
    "# df = pd.read_csv('sample_data/california_housing_test.csv')\n",
    "# df = df.head(10)\n",
    "# df.info()\n",
    "# df.describe()\n",
    "# print(df['median_income'].mean())\n",
    "# print(df['population'].median())\n",
    "# mean_median_income = df['median_income'].mean()\n",
    "# print(\"Mean of Median Income:\", mean_median_income)\n",
    "# median_population = df['population'].median()\n",
    "# print(\"Median of Population:\", median_population)"
   ]
  },
  {
   "cell_type": "code",
   "execution_count": 24,
   "id": "b3a82481-396b-4be9-9062-5d27832a91da",
   "metadata": {},
   "outputs": [
    {
     "name": "stderr",
     "output_type": "stream",
     "text": [
      "C:\\Users\\acer\\AppData\\Local\\Temp\\ipykernel_9160\\2567250898.py:19: FutureWarning: A value is trying to be set on a copy of a DataFrame or Series through chained assignment using an inplace method.\n",
      "The behavior will change in pandas 3.0. This inplace method will never work because the intermediate object on which we are setting values always behaves as a copy.\n",
      "\n",
      "For example, when doing 'df[col].method(value, inplace=True)', try using 'df.method({col: value}, inplace=True)' or df[col] = df[col].method(value) instead, to perform the operation inplace on the original object.\n",
      "\n",
      "\n",
      "  df['Salary'].fillna(df['Salary'].mean(), inplace=True)\n"
     ]
    },
    {
     "data": {
      "text/html": [
       "<div>\n",
       "<style scoped>\n",
       "    .dataframe tbody tr th:only-of-type {\n",
       "        vertical-align: middle;\n",
       "    }\n",
       "\n",
       "    .dataframe tbody tr th {\n",
       "        vertical-align: top;\n",
       "    }\n",
       "\n",
       "    .dataframe thead th {\n",
       "        text-align: right;\n",
       "    }\n",
       "</style>\n",
       "<table border=\"1\" class=\"dataframe\">\n",
       "  <thead>\n",
       "    <tr style=\"text-align: right;\">\n",
       "      <th></th>\n",
       "      <th>Name</th>\n",
       "      <th>Age</th>\n",
       "      <th>Salary</th>\n",
       "      <th>canVote</th>\n",
       "      <th>temporary</th>\n",
       "    </tr>\n",
       "  </thead>\n",
       "  <tbody>\n",
       "    <tr>\n",
       "      <th>0</th>\n",
       "      <td>Ramesh</td>\n",
       "      <td>10</td>\n",
       "      <td>100.0</td>\n",
       "      <td>False</td>\n",
       "      <td>1000.0</td>\n",
       "    </tr>\n",
       "    <tr>\n",
       "      <th>1</th>\n",
       "      <td>Prakash</td>\n",
       "      <td>20</td>\n",
       "      <td>150.0</td>\n",
       "      <td>True</td>\n",
       "      <td>3000.0</td>\n",
       "    </tr>\n",
       "    <tr>\n",
       "      <th>2</th>\n",
       "      <td>Roshni</td>\n",
       "      <td>30</td>\n",
       "      <td>125.0</td>\n",
       "      <td>True</td>\n",
       "      <td>3750.0</td>\n",
       "    </tr>\n",
       "  </tbody>\n",
       "</table>\n",
       "</div>"
      ],
      "text/plain": [
       "      Name  Age  Salary  canVote  temporary\n",
       "0   Ramesh   10   100.0    False     1000.0\n",
       "1  Prakash   20   150.0     True     3000.0\n",
       "2   Roshni   30   125.0     True     3750.0"
      ]
     },
     "execution_count": 24,
     "metadata": {},
     "output_type": "execute_result"
    }
   ],
   "source": [
    "import pandas as pd\n",
    "data = {\n",
    "    \"Name\":[\"Ramesh\", \"Prakash\", \"Roshni\"],\n",
    "    \"Age\": [10, 20, 30],\n",
    "    \"Salary\": [100, 150, None]\n",
    "}\n",
    "\n",
    "df = pd.DataFrame(data)\n",
    "# df['Salary'].mean()\n",
    "# df['Salary'].std()\n",
    "df['Salary'].max()\n",
    "# df.isnull()\n",
    "# df['Salary'].fillna(df['Salary'].mean(), inplace=True)\n",
    "# df\n",
    "# average = df['Salary'].mean()\n",
    "# df['Salary'].fillna(average, inplace=True)\n",
    "# df\n",
    "# df['Salary'].fillna(df['Salary'].mode()[0], inplace=True)\n",
    "df['Salary'].fillna(df['Salary'].mean(), inplace=True)\n",
    "df\n",
    "\n",
    "df['canVote'] = df['Age'] >= 18\n",
    "\n",
    "\n",
    "df['temporary'] = df['Age']* df['Salary']\n",
    "df\n",
    "\n",
    "\n"
   ]
  },
  {
   "cell_type": "code",
   "execution_count": null,
   "id": "354da48b-bb4e-420c-9cc2-2efc80f1e482",
   "metadata": {},
   "outputs": [],
   "source": [
    "\n"
   ]
  },
  {
   "cell_type": "code",
   "execution_count": 5,
   "id": "5fb3b2cd-d74b-4470-bf8a-554c274e3416",
   "metadata": {},
   "outputs": [
    {
     "name": "stderr",
     "output_type": "stream",
     "text": [
      "C:\\Users\\acer\\AppData\\Local\\Temp\\ipykernel_73228\\365250355.py:12: FutureWarning: A value is trying to be set on a copy of a DataFrame or Series through chained assignment using an inplace method.\n",
      "The behavior will change in pandas 3.0. This inplace method will never work because the intermediate object on which we are setting values always behaves as a copy.\n",
      "\n",
      "For example, when doing 'df[col].method(value, inplace=True)', try using 'df.method({col: value}, inplace=True)' or df[col] = df[col].method(value) instead, to perform the operation inplace on the original object.\n",
      "\n",
      "\n",
      "  df['Salary'].fillna(df['Salary'].mean(), inplace=True)\n"
     ]
    },
    {
     "data": {
      "text/html": [
       "<div>\n",
       "<style scoped>\n",
       "    .dataframe tbody tr th:only-of-type {\n",
       "        vertical-align: middle;\n",
       "    }\n",
       "\n",
       "    .dataframe tbody tr th {\n",
       "        vertical-align: top;\n",
       "    }\n",
       "\n",
       "    .dataframe thead th {\n",
       "        text-align: right;\n",
       "    }\n",
       "</style>\n",
       "<table border=\"1\" class=\"dataframe\">\n",
       "  <thead>\n",
       "    <tr style=\"text-align: right;\">\n",
       "      <th></th>\n",
       "      <th>Name</th>\n",
       "      <th>Age</th>\n",
       "      <th>Salary</th>\n",
       "      <th>canVote</th>\n",
       "      <th>temporary</th>\n",
       "    </tr>\n",
       "  </thead>\n",
       "  <tbody>\n",
       "    <tr>\n",
       "      <th>0</th>\n",
       "      <td>Ramesh</td>\n",
       "      <td>10</td>\n",
       "      <td>100.0</td>\n",
       "      <td>False</td>\n",
       "      <td>1000.0</td>\n",
       "    </tr>\n",
       "    <tr>\n",
       "      <th>1</th>\n",
       "      <td>Prakash</td>\n",
       "      <td>20</td>\n",
       "      <td>150.0</td>\n",
       "      <td>True</td>\n",
       "      <td>3000.0</td>\n",
       "    </tr>\n",
       "    <tr>\n",
       "      <th>2</th>\n",
       "      <td>Roshni</td>\n",
       "      <td>30</td>\n",
       "      <td>125.0</td>\n",
       "      <td>True</td>\n",
       "      <td>3750.0</td>\n",
       "    </tr>\n",
       "  </tbody>\n",
       "</table>\n",
       "</div>"
      ],
      "text/plain": [
       "      Name  Age  Salary  canVote  temporary\n",
       "0   Ramesh   10   100.0    False     1000.0\n",
       "1  Prakash   20   150.0     True     3000.0\n",
       "2   Roshni   30   125.0     True     3750.0"
      ]
     },
     "execution_count": 5,
     "metadata": {},
     "output_type": "execute_result"
    }
   ],
   "source": [
    "import pandas as pd\n",
    "\n",
    "# Create a DataFrame\n",
    "data = {\n",
    "    \"Name\": [\"Ramesh\", \"Prakash\", \"Roshni\"],\n",
    "    \"Age\": [10, 20, 30],\n",
    "    \"Salary\": [100, 150, None]\n",
    "}\n",
    "df = pd.DataFrame(data)\n",
    "\n",
    "# Fill missing values in 'Salary' with the mean\n",
    "df['Salary'].fillna(df['Salary'].mean(), inplace=True)\n",
    "\n",
    "# Add a column to check voting eligibility\n",
    "df['canVote'] = df['Age'] >= 18\n",
    "\n",
    "# Add a 'temporary' column as the product of 'Age' and 'Salary'\n",
    "df['temporary'] = df['Age'] * df['Salary']\n",
    "\n",
    "# Display the DataFrame\n",
    "df\n"
   ]
  },
  {
   "cell_type": "code",
   "execution_count": 25,
   "id": "893b453c-d21c-4baa-93e9-9a7cf52651a0",
   "metadata": {},
   "outputs": [
    {
     "name": "stdout",
     "output_type": "stream",
     "text": [
      "      Name  Age  Salary  canVote  temporary\n",
      "0   Ramesh   10   100.0    False     1000.0\n",
      "1  Prakash   20   150.0     True     3000.0\n",
      "2   Roshni   30   125.0     True     3750.0\n",
      "\n",
      "Dataset Information:\n",
      "<class 'pandas.core.frame.DataFrame'>\n",
      "RangeIndex: 3 entries, 0 to 2\n",
      "Data columns (total 5 columns):\n",
      " #   Column     Non-Null Count  Dtype  \n",
      "---  ------     --------------  -----  \n",
      " 0   Name       3 non-null      object \n",
      " 1   Age        3 non-null      int64  \n",
      " 2   Salary     3 non-null      float64\n",
      " 3   canVote    3 non-null      bool   \n",
      " 4   temporary  3 non-null      float64\n",
      "dtypes: bool(1), float64(2), int64(1), object(1)\n",
      "memory usage: 231.0+ bytes\n",
      "None\n",
      "\n",
      "Basic Statistics:\n",
      "        Age  Salary    temporary\n",
      "count   3.0     3.0     3.000000\n",
      "mean   20.0   125.0  2583.333333\n",
      "std    10.0    25.0  1421.560176\n",
      "min    10.0   100.0  1000.000000\n",
      "25%    15.0   112.5  2000.000000\n",
      "50%    20.0   125.0  3000.000000\n",
      "75%    25.0   137.5  3375.000000\n",
      "max    30.0   150.0  3750.000000\n"
     ]
    }
   ],
   "source": [
    "print(df.head())\n",
    "\n",
    "# Check the structure and types of data in the dataset\n",
    "print(\"\\nDataset Information:\")\n",
    "print(df.info())\n",
    "\n",
    "# Get basic statistics for numerical columns (mean, min, max, etc.)\n",
    "print(\"\\nBasic Statistics:\")\n",
    "print(df.describe())\n",
    "\n",
    "mean_median_income = df['median_income'].mean()\n",
    "print(\"Mean of Median Income:\", mean_median_income)\n",
    "median_population = df['population'].median()\n",
    "print(\"Median of Population:\", median_population)\n",
    "\n",
    "std_median_income = df['median_income'].std()\n",
    "print(\"Standard Deviation of Median Income:\", std_median_income)\n",
    "\n",
    "# Find the maximum and minimum values for 'total_rooms'\n",
    "max_total_rooms = df['total_rooms'].max()\n",
    "min_total_rooms = df['total_rooms'].min()\n",
    "\n",
    "print(\"Maximum Total Rooms:\", max_total_rooms)\n",
    "print(\"Minimum Total Rooms:\", min_total_rooms)\n",
    "\n",
    "# # 2. CHECK FOR MISSING VALUES\n",
    "# # Check for any missing values in the dataset\n",
    "# print(\"\\nMissing Values in Each Column:\")\n",
    "# print(df.isnull().sum())\n",
    "\n",
    "# # Display rows with missing values\n",
    "# print(\"\\nRows with Missing Values:\")\n",
    "# missing_rows = df[df.isnull().any(axis=1)]\n",
    "# print(missing_rows)\n",
    "\n",
    "# # Fill missing values in the 'total_bedrooms' column with its median\n",
    "# # This avoids issues caused by missing values while keeping the data distribution reasonable\n",
    "# df['total_bedrooms'].fillna(df['total_bedrooms'].median(), inplace=True)\n",
    "\n",
    "\n",
    "# # 3. FILTER DATA BASED ON CONDITIONS\n",
    "# # Filter rows where 'median_house_value' is greater than $200,000\n",
    "# high_value_houses = df[df['median_house_value'] > 200000]\n",
    "# print(\"\\nHouses with Median Value > 200,000:\")\n",
    "# print(high_value_houses.head())\n",
    "\n",
    "# # Filter rows where 'population' is less than 500\n",
    "# low_population = df[df['population'] < 500]\n",
    "# print(\"\\nAreas with Population < 500:\")\n",
    "# print(low_population.head())\n",
    "\n",
    "\n",
    "# # 4. ADD NEW DERIVED COLUMNS\n",
    "# # Add a column for the number of rooms per household\n",
    "# df['rooms_per_household'] = df['total_rooms'] / df['households']\n",
    "\n",
    "# # Add a column for the ratio of bedrooms to total rooms\n",
    "# df['bedrooms_per_room'] = df['total_bedrooms'] / df['total_rooms']\n",
    "\n",
    "# # Add a column for population per household\n",
    "# df['population_per_household'] = df['population'] / df['households']\n",
    "\n",
    "# print(\"\\nDataset after Adding New Columns:\")\n",
    "# print(df.head())\n",
    "\n",
    "\n",
    "# # 5. SORT AND RESET INDEX\n",
    "# # Sort the data by 'median_income' in descending order\n",
    "# sorted_df = df.sort_values(by='median_income', ascending=False)\n",
    "# print(\"\\nTop 5 Rows Sorted by Median Income:\")\n",
    "# print(sorted_df.head())\n",
    "\n",
    "# # Reset the index after sorting\n",
    "# sorted_df = sorted_df.reset_index(drop=True)\n",
    "# print(\"\\nSorted Data with Reset Index:\")\n",
    "# print(sorted_df.head())\n",
    "\n",
    "\n",
    "# # 6. GROUP AND AGGREGATE DATA\n",
    "# # Group by 'housing_median_age' and calculate the mean of 'median_house_value'\n",
    "# age_group = df.groupby('housing_median_age')['median_house_value'].mean()\n",
    "# print(\"\\nMean Median House Value by Housing Median Age:\")\n",
    "# print(age_group)\n",
    "\n",
    "\n",
    "# sorted_df = df.sort_values(by='median_income', ascending=False)\n",
    "# print(\"\\nTop 5 Rows Sorted by Median Income:\")\n",
    "# print(sorted_df.head())\n",
    "\n",
    "# # Count the number of entries for each 'housing_median_age'\n",
    "# age_group_count = df.groupby('housing_median_age').size()\n",
    "# print(\"\\nNumber of Entries by Housing Median Age:\")\n",
    "# print(age_group_count)\n",
    "\n",
    "\n",
    "# 7. VISUALIZE DISTRIBUTIONS AND RELATIONSHIPS\n",
    "# Histogram of 'median_income'\n",
    "# print(\"\\nVisualizing the Distribution of Median Income:\")\n",
    "# df['median_income'].hist(bins=30)\n",
    "# plt.xlabel('Median Income')\n",
    "# plt.ylabel('Frequency')\n",
    "# plt.title('Distribution of Median Income')\n",
    "# plt.show()\n",
    "\n",
    "# # Scatter plot: 'median_income' vs 'median_house_value'\n",
    "# print(\"\\nScatter Plot of Median Income vs Median House Value:\")\n",
    "# df.plot(kind='scatter', x='median_income', y='median_house_value', alpha=0.5)\n",
    "# plt.title('Median Income vs Median House Value')\n",
    "# plt.xlabel('Median Income')\n",
    "# plt.ylabel('Median House Value')\n",
    "# plt.show()\n",
    "\n",
    "\n",
    "# # 10. SAVE CLEANED DATA\n",
    "# # Save the cleaned dataset to a new CSV file\n",
    "# df.to_csv('cleaned_dataset.csv', index=False)\n",
    "# print(\"\\nCleaned Dataset Saved to 'cleaned_dataset.csv'\")"
   ]
  },
  {
   "cell_type": "code",
   "execution_count": 5,
   "id": "21b247e3-5b80-4350-a665-47df806aa8a7",
   "metadata": {},
   "outputs": [
    {
     "name": "stdout",
     "output_type": "stream",
     "text": [
      "Dataset:\n",
      "      Name  Math  Science  English\n",
      "0    Alice    85       91       88\n",
      "1      Bob    92       89       76\n",
      "2  Charlie    78       84       90\n",
      "3    David    88       86       85\n",
      "4     Ella    95       94       92\n",
      "\n",
      "Dataset with Average Scores:\n",
      "      Name  Math  Science  English    Average\n",
      "0    Alice    85       91       88  88.000000\n",
      "1      Bob    92       89       76  85.666667\n",
      "2  Charlie    78       84       90  84.000000\n",
      "3    David    88       86       85  86.333333\n",
      "4     Ella    95       94       92  93.666667\n",
      "\n",
      "Top Student:\n",
      "Name            Ella\n",
      "Math              95\n",
      "Science           94\n",
      "English           92\n",
      "Average    93.666667\n",
      "Name: 4, dtype: object\n"
     ]
    },
    {
     "data": {
      "image/png": "[encoded data removed]",
      "text/plain": [
       "<Figure size 1000x600 with 1 Axes>"
      ]
     },
     "metadata": {},
     "output_type": "display_data"
    }
   ],
   "source": [
    "# Import necessary libraries\n",
    "import pandas as pd\n",
    "import matplotlib.pyplot as plt\n",
    "\n",
    "# Step 1: Create a simple dataset\n",
    "data = {\n",
    "    \"Name\": [\"Alice\", \"Bob\", \"Charlie\", \"David\", \"Ella\"],\n",
    "    \"Math\": [85, 92, 78, 88, 95],\n",
    "    \"Science\": [91, 89, 84, 86, 94],\n",
    "    \"English\": [88, 76, 90, 85, 92],\n",
    "}\n",
    "\n",
    "# Convert the data dictionary into a pandas DataFrame\n",
    "df = pd.DataFrame(data)\n",
    "\n",
    "# Step 2: Display the dataset\n",
    "print(\"Dataset:\")\n",
    "print(df)\n",
    "\n",
    "# Step 3: Calculate the average score for each student\n",
    "df[\"Average\"] = df[[\"Math\", \"Science\", \"English\"]].mean(axis=1)\n",
    "\n",
    "# Display the updated dataset\n",
    "print(\"\\nDataset with Average Scores:\")\n",
    "print(df)\n",
    "\n",
    "# Step 4: Find the student with the highest average\n",
    "top_student = df.loc[df[\"Average\"].idxmax()]\n",
    "print(\"\\nTop Student:\")\n",
    "print(top_student)\n",
    "\n",
    "# Step 5: Visualize the data using a bar chart\n",
    "plt.figure(figsize=(10, 6))\n",
    "plt.bar(df[\"Name\"], df[\"Average\"], color=\"skyblue\")\n",
    "plt.title(\"Average Scores of Students\")\n",
    "plt.xlabel(\"Student Name\")\n",
    "plt.ylabel(\"Average Score\")\n",
    "plt.ylim(0, 100)\n",
    "plt.grid(axis=\"y\", linestyle=\"--\", alpha=0.7)\n",
    "plt.show()\n",
    "\n"
   ]
  },
  {
   "cell_type": "code",
   "execution_count": null,
   "id": "7259bb93-10d6-41e6-baef-5e94bc3abd3b",
   "metadata": {},
   "outputs": [],
   "source": []
  }
 ],
 "metadata": {
  "kernelspec": {
   "display_name": "Python 3 (ipykernel)",
   "language": "python",
   "name": "python3"
  },
  "language_info": {
   "codemirror_mode": {
    "name": "ipython",
    "version": 3
   },
   "file_extension": ".py",
   "mimetype": "text/x-python",
   "name": "python",
   "nbconvert_exporter": "python",
   "pygments_lexer": "ipython3",
   "version": "3.13.0"
  }
 },
 "nbformat": 4,
 "nbformat_minor": 5
}
