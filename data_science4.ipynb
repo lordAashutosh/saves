{
 "cells": [
  {
   "cell_type": "code",
   "execution_count": 1,
   "id": "88d0aa79-af66-4045-b31e-6436cb99d47b",
   "metadata": {
    "scrolled": true
   },
   "outputs": [
    {
     "name": "stdout",
     "output_type": "stream",
     "text": [
      "Requirement already satisfied: numpy in c:\\users\\acer\\appdata\\local\\programs\\python\\python313\\lib\\site-packages (2.2.0)\n"
     ]
    },
    {
     "name": "stderr",
     "output_type": "stream",
     "text": [
      "\n",
      "[notice] A new release of pip is available: 24.2 -> 24.3.1\n",
      "[notice] To update, run: python.exe -m pip install --upgrade pip\n"
     ]
    },
    {
     "name": "stdout",
     "output_type": "stream",
     "text": [
      "Requirement already satisfied: pandas in c:\\users\\acer\\appdata\\local\\programs\\python\\python313\\lib\\site-packages (2.2.3)\n",
      "Requirement already satisfied: numpy>=1.26.0 in c:\\users\\acer\\appdata\\local\\programs\\python\\python313\\lib\\site-packages (from pandas) (2.2.0)\n",
      "Requirement already satisfied: python-dateutil>=2.8.2 in c:\\users\\acer\\appdata\\local\\programs\\python\\python313\\lib\\site-packages (from pandas) (2.9.0.post0)\n",
      "Requirement already satisfied: pytz>=2020.1 in c:\\users\\acer\\appdata\\local\\programs\\python\\python313\\lib\\site-packages (from pandas) (2024.2)\n",
      "Requirement already satisfied: tzdata>=2022.7 in c:\\users\\acer\\appdata\\local\\programs\\python\\python313\\lib\\site-packages (from pandas) (2024.2)\n",
      "Requirement already satisfied: six>=1.5 in c:\\users\\acer\\appdata\\local\\programs\\python\\python313\\lib\\site-packages (from python-dateutil>=2.8.2->pandas) (1.17.0)\n"
     ]
    },
    {
     "name": "stderr",
     "output_type": "stream",
     "text": [
      "\n",
      "[notice] A new release of pip is available: 24.2 -> 24.3.1\n",
      "[notice] To update, run: python.exe -m pip install --upgrade pip\n"
     ]
    }
   ],
   "source": [
    "!pip install numpy\n",
    "!pip install pandas"
   ]
  },
  {
   "cell_type": "code",
   "execution_count": 3,
   "id": "1977b3bc-b373-49c8-a5e0-85001890d7f1",
   "metadata": {},
   "outputs": [
    {
     "name": "stderr",
     "output_type": "stream",
     "text": [
      "C:\\Users\\acer\\AppData\\Local\\Temp\\ipykernel_19428\\2567250898.py:19: FutureWarning: A value is trying to be set on a copy of a DataFrame or Series through chained assignment using an inplace method.\n",
      "The behavior will change in pandas 3.0. This inplace method will never work because the intermediate object on which we are setting values always behaves as a copy.\n",
      "\n",
      "For example, when doing 'df[col].method(value, inplace=True)', try using 'df.method({col: value}, inplace=True)' or df[col] = df[col].method(value) instead, to perform the operation inplace on the original object.\n",
      "\n",
      "\n",
      "  df['Salary'].fillna(df['Salary'].mean(), inplace=True)\n"
     ]
    },
    {
     "data": {
      "text/html": [
       "<div>\n",
       "<style scoped>\n",
       "    .dataframe tbody tr th:only-of-type {\n",
       "        vertical-align: middle;\n",
       "    }\n",
       "\n",
       "    .dataframe tbody tr th {\n",
       "        vertical-align: top;\n",
       "    }\n",
       "\n",
       "    .dataframe thead th {\n",
       "        text-align: right;\n",
       "    }\n",
       "</style>\n",
       "<table border=\"1\" class=\"dataframe\">\n",
       "  <thead>\n",
       "    <tr style=\"text-align: right;\">\n",
       "      <th></th>\n",
       "      <th>Name</th>\n",
       "      <th>Age</th>\n",
       "      <th>Salary</th>\n",
       "      <th>canVote</th>\n",
       "      <th>temporary</th>\n",
       "    </tr>\n",
       "  </thead>\n",
       "  <tbody>\n",
       "    <tr>\n",
       "      <th>0</th>\n",
       "      <td>Ramesh</td>\n",
       "      <td>10</td>\n",
       "      <td>100.0</td>\n",
       "      <td>False</td>\n",
       "      <td>1000.0</td>\n",
       "    </tr>\n",
       "    <tr>\n",
       "      <th>1</th>\n",
       "      <td>Prakash</td>\n",
       "      <td>20</td>\n",
       "      <td>150.0</td>\n",
       "      <td>True</td>\n",
       "      <td>3000.0</td>\n",
       "    </tr>\n",
       "    <tr>\n",
       "      <th>2</th>\n",
       "      <td>Roshni</td>\n",
       "      <td>30</td>\n",
       "      <td>125.0</td>\n",
       "      <td>True</td>\n",
       "      <td>3750.0</td>\n",
       "    </tr>\n",
       "  </tbody>\n",
       "</table>\n",
       "</div>"
      ],
      "text/plain": [
       "      Name  Age  Salary  canVote  temporary\n",
       "0   Ramesh   10   100.0    False     1000.0\n",
       "1  Prakash   20   150.0     True     3000.0\n",
       "2   Roshni   30   125.0     True     3750.0"
      ]
     },
     "execution_count": 3,
     "metadata": {},
     "output_type": "execute_result"
    }
   ],
   "source": [
    "import pandas as pd\n",
    "data = {\n",
    "    \"Name\":[\"Ramesh\", \"Prakash\", \"Roshni\"],\n",
    "    \"Age\": [10, 20, 30],\n",
    "    \"Salary\": [100, 150, None]\n",
    "}\n",
    "\n",
    "df = pd.DataFrame(data)\n",
    "# df['Salary'].mean()\n",
    "# df['Salary'].std()\n",
    "df['Salary'].max()\n",
    "# df.isnull()\n",
    "# df['Salary'].fillna(df['Salary'].mean(), inplace=True)\n",
    "# df\n",
    "# average = df['Salary'].mean()\n",
    "# df['Salary'].fillna(average, inplace=True)\n",
    "# df\n",
    "# df['Salary'].fillna(df['Salary'].mode()[0], inplace=True)\n",
    "df['Salary'].fillna(df['Salary'].mean(), inplace=True)\n",
    "df\n",
    "\n",
    "df['canVote'] = df['Age'] >= 18\n",
    "\n",
    "\n",
    "df['temporary'] = df['Age']* df['Salary']\n",
    "df\n",
    "\n",
    "\n"
   ]
  },
  {
   "cell_type": "code",
   "execution_count": 5,
   "id": "77addfd3-dc83-46d7-bad4-8d913d946214",
   "metadata": {},
   "outputs": [
    {
     "ename": "_IncompleteInputError",
     "evalue": "incomplete input (4053608626.py, line 117)",
     "output_type": "error",
     "traceback": [
      "\u001b[1;36m  Cell \u001b[1;32mIn[5], line 117\u001b[1;36m\u001b[0m\n\u001b[1;33m    # print(\"\\nCleaned Dataset Saved to 'cleaned_dataset.csv'\")\u001b[0m\n\u001b[1;37m                                                               ^\u001b[0m\n\u001b[1;31m_IncompleteInputError\u001b[0m\u001b[1;31m:\u001b[0m incomplete input\n"
     ]
    }
   ],
   "source": [
    "print(df.head())\n",
    "\n",
    "# Check the structure and types of data in the dataset\n",
    "print(\"\\nDataset Information:\")\n",
    "print(df.info())\n",
    "\n",
    "# Get basic statistics for numerical columns (mean, min, max, etc.)\n",
    "print(\"\\nBasic Statistics:\")\n",
    "print(df.describe()\n",
    "\n",
    "# mean_median_income = df['median_income'].mean()\n",
    "# print(\"Mean of Median Income:\", mean_median_income)\n",
    "# median_population = df['population'].median()\n",
    "# print(\"Median of Population:\", median_population)\n",
    "\n",
    "# std_median_income = df['median_income'].std()\n",
    "# print(\"Standard Deviation of Median Income:\", std_median_income)\n",
    "\n",
    "# # Find the maximum and minimum values for 'total_rooms'\n",
    "# max_total_rooms = df['total_rooms'].max()\n",
    "# min_total_rooms = df['total_rooms'].min()\n",
    "\n",
    "# print(\"Maximum Total Rooms:\", max_total_rooms)\n",
    "# print(\"Minimum Total Rooms:\", min_total_rooms)\n",
    "\n",
    "# # 2. CHECK FOR MISSING VALUES\n",
    "# # Check for any missing values in the dataset\n",
    "# print(\"\\nMissing Values in Each Column:\")\n",
    "# print(df.isnull().sum())\n",
    "\n",
    "# # Display rows with missing values\n",
    "# print(\"\\nRows with Missing Values:\")\n",
    "# missing_rows = df[df.isnull().any(axis=1)]\n",
    "# print(missing_rows)\n",
    "\n",
    "# # Fill missing values in the 'total_bedrooms' column with its median\n",
    "# # This avoids issues caused by missing values while keeping the data distribution reasonable\n",
    "# df['total_bedrooms'].fillna(df['total_bedrooms'].median(), inplace=True)\n",
    "\n",
    "\n",
    "# # 3. FILTER DATA BASED ON CONDITIONS\n",
    "# # Filter rows where 'median_house_value' is greater than $200,000\n",
    "# high_value_houses = df[df['median_house_value'] > 200000]\n",
    "# print(\"\\nHouses with Median Value > 200,000:\")\n",
    "# print(high_value_houses.head())\n",
    "\n",
    "# # Filter rows where 'population' is less than 500\n",
    "# low_population = df[df['population'] < 500]\n",
    "# print(\"\\nAreas with Population < 500:\")\n",
    "# print(low_population.head())\n",
    "\n",
    "\n",
    "# # 4. ADD NEW DERIVED COLUMNS\n",
    "# # Add a column for the number of rooms per household\n",
    "# df['rooms_per_household'] = df['total_rooms'] / df['households']\n",
    "\n",
    "# # Add a column for the ratio of bedrooms to total rooms\n",
    "# df['bedrooms_per_room'] = df['total_bedrooms'] / df['total_rooms']\n",
    "\n",
    "# # Add a column for population per household\n",
    "# df['population_per_household'] = df['population'] / df['households']\n",
    "\n",
    "# print(\"\\nDataset after Adding New Columns:\")\n",
    "# print(df.head())\n",
    "\n",
    "\n",
    "# # 5. SORT AND RESET INDEX\n",
    "# # Sort the data by 'median_income' in descending order\n",
    "# sorted_df = df.sort_values(by='median_income', ascending=False)\n",
    "# print(\"\\nTop 5 Rows Sorted by Median Income:\")\n",
    "# print(sorted_df.head())\n",
    "\n",
    "# # Reset the index after sorting\n",
    "# sorted_df = sorted_df.reset_index(drop=True)\n",
    "# print(\"\\nSorted Data with Reset Index:\")\n",
    "# print(sorted_df.head())\n",
    "\n",
    "\n",
    "# # 6. GROUP AND AGGREGATE DATA\n",
    "# # Group by 'housing_median_age' and calculate the mean of 'median_house_value'\n",
    "# age_group = df.groupby('housing_median_age')['median_house_value'].mean()\n",
    "# print(\"\\nMean Median House Value by Housing Median Age:\")\n",
    "# print(age_group)\n",
    "\n",
    "\n",
    "# sorted_df = df.sort_values(by='median_income', ascending=False)\n",
    "# print(\"\\nTop 5 Rows Sorted by Median Income:\")\n",
    "# print(sorted_df.head())\n",
    "\n",
    "# # Count the number of entries for each 'housing_median_age'\n",
    "# age_group_count = df.groupby('housing_median_age').size()\n",
    "# print(\"\\nNumber of Entries by Housing Median Age:\")\n",
    "# print(age_group_count)\n",
    "\n",
    "\n",
    "# # 7. VISUALIZE DISTRIBUTIONS AND RELATIONSHIPS\n",
    "# # Histogram of 'median_income'\n",
    "# print(\"\\nVisualizing the Distribution of Median Income:\")\n",
    "# df['median_income'].hist(bins=30)\n",
    "# plt.xlabel('Median Income')\n",
    "# plt.ylabel('Frequency')\n",
    "# plt.title('Distribution of Median Income')\n",
    "# plt.show()\n",
    "\n",
    "# # Scatter plot: 'median_income' vs 'median_house_value'\n",
    "# print(\"\\nScatter Plot of Median Income vs Median House Value:\")\n",
    "# df.plot(kind='scatter', x='median_income', y='median_house_value', alpha=0.5)\n",
    "# plt.title('Median Income vs Median House Value')\n",
    "# plt.xlabel('Median Income')\n",
    "# plt.ylabel('Median House Value')\n",
    "# plt.show()\n",
    "\n",
    "\n",
    "# # 10. SAVE CLEANED DATA\n",
    "# # Save the cleaned dataset to a new CSV file\n",
    "# df.to_csv('cleaned_dataset.csv', index=False)\n",
    "# print(\"\\nCleaned Dataset Saved to 'cleaned_dataset.csv'\")"
   ]
  },
  {
   "cell_type": "code",
   "execution_count": null,
   "id": "8dbe3f71-ec19-4d83-b029-660cd0763214",
   "metadata": {},
   "outputs": [],
   "source": []
  },
  {
   "cell_type": "code",
   "execution_count": null,
   "id": "c7ca1480-b86c-457d-9bfc-3e91b68e6f99",
   "metadata": {},
   "outputs": [],
   "source": []
  }
 ],
 "metadata": {
  "kernelspec": {
   "display_name": "Python 3 (ipykernel)",
   "language": "python",
   "name": "python3"
  },
  "language_info": {
   "codemirror_mode": {
    "name": "ipython",
    "version": 3
   },
   "file_extension": ".py",
   "mimetype": "text/x-python",
   "name": "python",
   "nbconvert_exporter": "python",
   "pygments_lexer": "ipython3",
   "version": "3.13.0"
  }
 },
 "nbformat": 4,
 "nbformat_minor": 5
}
